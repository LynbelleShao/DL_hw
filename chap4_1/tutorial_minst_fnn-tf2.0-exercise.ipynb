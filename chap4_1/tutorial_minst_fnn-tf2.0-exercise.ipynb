{
 "cells": [
  {
   "cell_type": "markdown",
   "metadata": {},
   "source": [
    "## 准备数据"
   ]
  },
  {
   "cell_type": "code",
   "execution_count": 31,
   "metadata": {},
   "outputs": [],
   "source": [
    "import os\n",
    "import numpy as np\n",
    "import tensorflow as tf\n",
    "from tensorflow import keras\n",
    "from tensorflow.keras import layers, optimizers, datasets\n",
    "\n",
    "os.environ['TF_CPP_MIN_LOG_LEVEL'] = '2'  # or any {'0', '1', '2'}\n",
    "\n",
    "def mnist_dataset():\n",
    "    (x, y), (x_test, y_test) = datasets.mnist.load_data()\n",
    "    #normalize\n",
    "    x = x/255.0\n",
    "    x_test = x_test/255.0\n",
    "    \n",
    "    return (x, y), (x_test, y_test)"
   ]
  },
  {
   "cell_type": "code",
   "execution_count": 32,
   "metadata": {},
   "outputs": [
    {
     "name": "stdout",
     "output_type": "stream",
     "text": [
      "[(1, 'a'), (2, 'b'), (3, 'c'), (4, 'd')]\n"
     ]
    }
   ],
   "source": [
    "print(list(zip([1, 2, 3, 4], ['a', 'b', 'c', 'd'])))"
   ]
  },
  {
   "cell_type": "markdown",
   "metadata": {},
   "source": [
    "## 建立模型"
   ]
  },
  {
   "cell_type": "code",
   "execution_count": 33,
   "metadata": {},
   "outputs": [],
   "source": [
    "class myModel:\n",
    "    def __init__(self):\n",
    "        ####################\n",
    "        '''声明模型对应的参数'''\n",
    "        initializer = tf.keras.initializers.GlorotNormal()\n",
    "\n",
    "        self.W1 = tf.Variable(initializer([28*28, 1024]), dtype=tf.float32)\n",
    "        self.b1 = tf.Variable(tf.zeros([1024]), dtype=tf.float32)\n",
    "        self.W2 = tf.Variable(initializer([1024, 10]), dtype=tf.float32)\n",
    "        self.b2 = tf.Variable(tf.zeros([10]), dtype=tf.float32)\n",
    "\n",
    "        ####################\n",
    "    def __call__(self, x):\n",
    "        ####################\n",
    "        '''实现模型函数体，返回未归一化的logits'''\n",
    "        flat_x = tf.reshape(x, shape=[-1, 28*28])\n",
    "        h1 = tf.tanh(tf.matmul(flat_x, self.W1) + self.b1)\n",
    "        logits = tf.matmul(h1, self.W2) + self.b2\n",
    "        ####################\n",
    "        return logits\n",
    "        \n",
    "model = myModel()\n",
    "\n",
    "optimizer = optimizers.Adam()"
   ]
  },
  {
   "cell_type": "markdown",
   "metadata": {},
   "source": [
    "## 计算 loss"
   ]
  },
  {
   "cell_type": "code",
   "execution_count": 34,
   "metadata": {},
   "outputs": [],
   "source": [
    "@tf.function\n",
    "def compute_loss(logits, labels):\n",
    "    return tf.reduce_mean(\n",
    "        tf.nn.sparse_softmax_cross_entropy_with_logits(\n",
    "            logits=logits, labels=labels))\n",
    "\n",
    "@tf.function\n",
    "def compute_accuracy(logits, labels):\n",
    "    predictions = tf.argmax(logits, axis=1)\n",
    "    return tf.reduce_mean(tf.cast(tf.equal(predictions, labels), tf.float32))\n",
    "\n",
    "@tf.function\n",
    "def train_one_step(model, optimizer, x, y):\n",
    "    with tf.GradientTape() as tape:\n",
    "        logits = model(x)\n",
    "        loss = compute_loss(logits, y)\n",
    "\n",
    "    # compute gradient\n",
    "    trainable_vars = [model.W1, model.W2, model.b1, model.b2]\n",
    "    grads = tape.gradient(loss, trainable_vars)\n",
    "    for g, v in zip(grads, trainable_vars):\n",
    "        v.assign_sub(0.01*g)\n",
    "\n",
    "    accuracy = compute_accuracy(logits, y)\n",
    "\n",
    "    # loss and accuracy is scalar tensor\n",
    "    return loss, accuracy\n",
    "\n",
    "@tf.function\n",
    "def test(model, x, y):\n",
    "    logits = model(x)\n",
    "    loss = compute_loss(logits, y)\n",
    "    accuracy = compute_accuracy(logits, y)\n",
    "    return loss, accuracy"
   ]
  },
  {
   "cell_type": "markdown",
   "metadata": {},
   "source": [
    "## 实际训练"
   ]
  },
  {
   "cell_type": "code",
   "execution_count": 35,
   "metadata": {},
   "outputs": [
    {
     "name": "stdout",
     "output_type": "stream",
     "text": [
      "epoch 0 : loss 2.3814514 ; accuracy 0.13141666\n",
      "epoch 1 : loss 2.3446338 ; accuracy 0.14243333\n",
      "epoch 2 : loss 2.3105402 ; accuracy 0.15438333\n",
      "epoch 3 : loss 2.2785783 ; accuracy 0.16863333\n",
      "epoch 4 : loss 2.2483296 ; accuracy 0.18456666\n",
      "epoch 5 : loss 2.2194908 ; accuracy 0.20193334\n",
      "epoch 6 : loss 2.1918364 ; accuracy 0.22045\n",
      "epoch 7 : loss 2.1651974 ; accuracy 0.24095\n",
      "epoch 8 : loss 2.1394427 ; accuracy 0.26368332\n",
      "epoch 9 : loss 2.1144702 ; accuracy 0.28476667\n",
      "epoch 10 : loss 2.0902004 ; accuracy 0.30616668\n",
      "epoch 11 : loss 2.0665684 ; accuracy 0.3279\n",
      "epoch 12 : loss 2.0435228 ; accuracy 0.35033333\n",
      "epoch 13 : loss 2.0210214 ; accuracy 0.37103334\n",
      "epoch 14 : loss 1.999029 ; accuracy 0.39323333\n",
      "epoch 15 : loss 1.9775169 ; accuracy 0.41371667\n",
      "epoch 16 : loss 1.9564607 ; accuracy 0.43423334\n",
      "epoch 17 : loss 1.9358399 ; accuracy 0.45446667\n",
      "epoch 18 : loss 1.9156368 ; accuracy 0.47376665\n",
      "epoch 19 : loss 1.8958356 ; accuracy 0.49193335\n",
      "epoch 20 : loss 1.8764236 ; accuracy 0.50918335\n",
      "epoch 21 : loss 1.8573884 ; accuracy 0.52535\n",
      "epoch 22 : loss 1.8387195 ; accuracy 0.54\n",
      "epoch 23 : loss 1.820407 ; accuracy 0.5542833\n",
      "epoch 24 : loss 1.8024423 ; accuracy 0.5667667\n",
      "epoch 25 : loss 1.7848166 ; accuracy 0.5783\n",
      "epoch 26 : loss 1.7675225 ; accuracy 0.58958334\n",
      "epoch 27 : loss 1.7505524 ; accuracy 0.59936666\n",
      "epoch 28 : loss 1.7338995 ; accuracy 0.60885\n",
      "epoch 29 : loss 1.717557 ; accuracy 0.6175333\n",
      "epoch 30 : loss 1.7015185 ; accuracy 0.62518334\n",
      "epoch 31 : loss 1.6857775 ; accuracy 0.63271666\n",
      "epoch 32 : loss 1.6703281 ; accuracy 0.63991666\n",
      "epoch 33 : loss 1.6551644 ; accuracy 0.6465833\n",
      "epoch 34 : loss 1.6402805 ; accuracy 0.65216666\n",
      "epoch 35 : loss 1.6256706 ; accuracy 0.65811664\n",
      "epoch 36 : loss 1.6113292 ; accuracy 0.66403335\n",
      "epoch 37 : loss 1.5972508 ; accuracy 0.66895\n",
      "epoch 38 : loss 1.5834302 ; accuracy 0.6739\n",
      "epoch 39 : loss 1.5698619 ; accuracy 0.6785833\n",
      "epoch 40 : loss 1.5565408 ; accuracy 0.6827833\n",
      "epoch 41 : loss 1.5434617 ; accuracy 0.6874\n",
      "epoch 42 : loss 1.5306197 ; accuracy 0.692\n",
      "epoch 43 : loss 1.51801 ; accuracy 0.6957833\n",
      "epoch 44 : loss 1.5056274 ; accuracy 0.69965\n",
      "epoch 45 : loss 1.4934673 ; accuracy 0.70323336\n",
      "epoch 46 : loss 1.481525 ; accuracy 0.70665\n",
      "epoch 47 : loss 1.469796 ; accuracy 0.71063334\n",
      "epoch 48 : loss 1.4582757 ; accuracy 0.7137167\n",
      "epoch 49 : loss 1.4469596 ; accuracy 0.71653336\n",
      "test loss 1.4220346 ; accuracy 0.7275\n"
     ]
    }
   ],
   "source": [
    "train_data, test_data = mnist_dataset()\n",
    "for epoch in range(50):\n",
    "    loss, accuracy = train_one_step(model, optimizer, \n",
    "                                    tf.constant(train_data[0], dtype=tf.float32), \n",
    "                                    tf.constant(train_data[1], dtype=tf.int64))\n",
    "    print('epoch', epoch, ': loss', loss.numpy(), '; accuracy', accuracy.numpy())\n",
    "loss, accuracy = test(model, \n",
    "                      tf.constant(test_data[0], dtype=tf.float32), \n",
    "                      tf.constant(test_data[1], dtype=tf.int64))\n",
    "\n",
    "print('test loss', loss.numpy(), '; accuracy', accuracy.numpy())"
   ]
  }
 ],
 "metadata": {
  "kernelspec": {
   "display_name": "dlhw",
   "language": "python",
   "name": "python3"
  },
  "language_info": {
   "codemirror_mode": {
    "name": "ipython",
    "version": 3
   },
   "file_extension": ".py",
   "mimetype": "text/x-python",
   "name": "python",
   "nbconvert_exporter": "python",
   "pygments_lexer": "ipython3",
   "version": "3.11.11"
  }
 },
 "nbformat": 4,
 "nbformat_minor": 2
}
