{
 "cells": [
  {
   "cell_type": "markdown",
   "metadata": {},
   "source": [
    "导入numpy"
   ]
  },
  {
   "cell_type": "code",
   "execution_count": 1,
   "metadata": {},
   "outputs": [],
   "source": [
    "import numpy as np\n",
    "import matplotlib.pyplot as plt"
   ]
  },
  {
   "cell_type": "markdown",
   "metadata": {},
   "source": [
    "定义目标函数"
   ]
  },
  {
   "cell_type": "code",
   "execution_count": 2,
   "metadata": {},
   "outputs": [],
   "source": [
    "\n",
    "def target_function(x):\n",
    "    return  3*x**3+ x**2 + 2*x + 1"
   ]
  },
  {
   "cell_type": "markdown",
   "metadata": {},
   "source": [
    "\n",
    "生成数据"
   ]
  },
  {
   "cell_type": "code",
   "execution_count": 3,
   "metadata": {},
   "outputs": [],
   "source": [
    "np.random.seed(42)\n",
    "x_train = np.random.uniform(-1, 1, 100)\n",
    "y_train = target_function(x_train)\n",
    "x_test = np.linspace(-1, 1, 100)\n",
    "y_test = target_function(x_test)"
   ]
  },
  {
   "cell_type": "markdown",
   "metadata": {},
   "source": [
    "NumPy 实现两层 ReLU 网络"
   ]
  },
  {
   "cell_type": "code",
   "execution_count": 4,
   "metadata": {},
   "outputs": [],
   "source": [
    "class NumPyReLUNet:\n",
    "    def __init__(self, input_size=1, hidden_size=30, output_size=1, lr=0.05):\n",
    "        self.lr = lr\n",
    "        self.W1 = np.random.randn(input_size, hidden_size) * 0.1\n",
    "        self.b1 = np.zeros((1, hidden_size))\n",
    "        self.W2 = np.random.randn(hidden_size, output_size) * 0.1\n",
    "        self.b2 = np.zeros((1, output_size))\n",
    "    \n",
    "    def relu(self, x):\n",
    "        return np.maximum(0, x)\n",
    "    \n",
    "    def relu_derivative(self, x):\n",
    "        return (x > 0).astype(float)\n",
    "    \n",
    "    def forward(self, x):\n",
    "        self.z1 = x @ self.W1 + self.b1\n",
    "        self.a1 = self.relu(self.z1)\n",
    "        self.z2 = self.a1 @ self.W2 + self.b2\n",
    "        return self.z2\n",
    "    \n",
    "    def backward(self, x, y, y_pred):\n",
    "        loss_grad = 2 * (y_pred - y) / y.shape[0]\n",
    "        dz2 = loss_grad\n",
    "        dW2 = self.a1.T @ dz2\n",
    "        db2 = np.sum(dz2, axis=0, keepdims=True)\n",
    "        dz1 = (dz2 @ self.W2.T) * self.relu_derivative(self.z1)\n",
    "        dW1 = x.T @ dz1\n",
    "        db1 = np.sum(dz1, axis=0, keepdims=True)\n",
    "        \n",
    "        self.W1 -= self.lr * dW1\n",
    "        self.b1 -= self.lr * db1\n",
    "        self.W2 -= self.lr * dW2\n",
    "        self.b2 -= self.lr * db2\n",
    "    \n",
    "    def train(self, x, y, epochs=5000):\n",
    "        for epoch in range(epochs):\n",
    "            y_pred = self.forward(x)\n",
    "            self.backward(x, y, y_pred)\n",
    "            if epoch % 100 == 0:\n",
    "                loss = np.mean((y_pred - y) ** 2)\n",
    "                print(f\"Epoch {epoch}, Loss: {loss:.4f}\")"
   ]
  },
  {
   "cell_type": "markdown",
   "metadata": {},
   "source": [
    "训练 NumPy 网络"
   ]
  },
  {
   "cell_type": "code",
   "execution_count": 5,
   "metadata": {},
   "outputs": [
    {
     "name": "stdout",
     "output_type": "stream",
     "text": [
      "Epoch 0, Loss: 6.4804\n",
      "Epoch 100, Loss: 0.2750\n",
      "Epoch 200, Loss: 0.2600\n",
      "Epoch 300, Loss: 0.2416\n",
      "Epoch 400, Loss: 0.2104\n",
      "Epoch 500, Loss: 0.1702\n",
      "Epoch 600, Loss: 0.1316\n",
      "Epoch 700, Loss: 0.1030\n",
      "Epoch 800, Loss: 0.0866\n",
      "Epoch 900, Loss: 0.0776\n",
      "Epoch 1000, Loss: 0.0724\n",
      "Epoch 1100, Loss: 0.0693\n",
      "Epoch 1200, Loss: 0.0676\n",
      "Epoch 1300, Loss: 0.0664\n",
      "Epoch 1400, Loss: 0.0656\n",
      "Epoch 1500, Loss: 0.0649\n",
      "Epoch 1600, Loss: 0.0640\n",
      "Epoch 1700, Loss: 0.0625\n",
      "Epoch 1800, Loss: 0.0608\n",
      "Epoch 1900, Loss: 0.0588\n",
      "Epoch 2000, Loss: 0.0564\n",
      "Epoch 2100, Loss: 0.0534\n",
      "Epoch 2200, Loss: 0.0498\n",
      "Epoch 2300, Loss: 0.0458\n",
      "Epoch 2400, Loss: 0.0414\n",
      "Epoch 2500, Loss: 0.0368\n",
      "Epoch 2600, Loss: 0.0323\n",
      "Epoch 2700, Loss: 0.0281\n",
      "Epoch 2800, Loss: 0.0242\n",
      "Epoch 2900, Loss: 0.0207\n",
      "Epoch 3000, Loss: 0.0178\n",
      "Epoch 3100, Loss: 0.0152\n",
      "Epoch 3200, Loss: 0.0130\n",
      "Epoch 3300, Loss: 0.0112\n",
      "Epoch 3400, Loss: 0.0096\n",
      "Epoch 3500, Loss: 0.0084\n",
      "Epoch 3600, Loss: 0.0074\n",
      "Epoch 3700, Loss: 0.0066\n",
      "Epoch 3800, Loss: 0.0060\n",
      "Epoch 3900, Loss: 0.0055\n",
      "Epoch 4000, Loss: 0.0052\n",
      "Epoch 4100, Loss: 0.0049\n",
      "Epoch 4200, Loss: 0.0047\n",
      "Epoch 4300, Loss: 0.0046\n",
      "Epoch 4400, Loss: 0.0045\n",
      "Epoch 4500, Loss: 0.0044\n",
      "Epoch 4600, Loss: 0.0043\n",
      "Epoch 4700, Loss: 0.0042\n",
      "Epoch 4800, Loss: 0.0042\n",
      "Epoch 4900, Loss: 0.0042\n"
     ]
    }
   ],
   "source": [
    "x_train_np = x_train.reshape(-1, 1)\n",
    "y_train_np = y_train.reshape(-1, 1)\n",
    "x_test_np = x_test.reshape(-1, 1)\n",
    "numpy_model = NumPyReLUNet()\n",
    "numpy_model.train(x_train_np, y_train_np)\n",
    "\n",
    "y_pred_numpy = numpy_model.forward(x_test_np)"
   ]
  },
  {
   "cell_type": "markdown",
   "metadata": {},
   "source": [
    "可视化结果"
   ]
  },
  {
   "cell_type": "code",
   "execution_count": 6,
   "metadata": {},
   "outputs": [
    {
     "data": {
      "image/png": "[encoded data removed]",
      "text/plain": [
       "<Figure size 640x480 with 1 Axes>"
      ]
     },
     "metadata": {},
     "output_type": "display_data"
    }
   ],
   "source": [
    "def plot_results(x_test, y_test, y_pred, title):\n",
    "    plt.plot(x_test, y_test, label='True Function', color='green')\n",
    "    plt.plot(x_test, y_pred, label='Model Prediction', color='red', linestyle='dashed')\n",
    "    plt.legend()\n",
    "    plt.title(title)\n",
    "    plt.show()\n",
    "\n",
    "plot_results(x_test, y_test, y_pred_numpy, \"NumPy ReLU Network\")"
   ]
  }
 ],
 "metadata": {
  "kernelspec": {
   "display_name": "dlhw",
   "language": "python",
   "name": "python3"
  },
  "language_info": {
   "codemirror_mode": {
    "name": "ipython",
    "version": 3
   },
   "file_extension": ".py",
   "mimetype": "text/x-python",
   "name": "python",
   "nbconvert_exporter": "python",
   "pygments_lexer": "ipython3",
   "version": "3.11.11"
  }
 },
 "nbformat": 4,
 "nbformat_minor": 2
}
